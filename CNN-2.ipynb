{
 "cells": [
  {
   "cell_type": "markdown",
   "metadata": {},
   "source": [
    "<img src=\"https://www.rochester.edu/assets/images/ur-logo.svg\">\n",
    "\n",
    "# <center>[CSC 249/449: Machine Vision](https://www.cs.rochester.edu/~cxu22/t/249S22/)</center>\n",
    "\n",
    "\n",
    "1. Make sure you fill in all cells contain `YOUR CODE HERE` or `YOUR ANSWER HERE`.\n",
    "2. After you finished, `Restart the kernel & run` all cell in order.\n",
    "---------\n"
   ]
  },
  {
   "cell_type": "markdown",
   "metadata": {},
   "source": [
    "# Convolutional Neural Network\n",
    "----\n",
    "In this notebook, you will experience how to implement convolution and build your own CNN for image classification task.\n"
   ]
  },
  {
   "cell_type": "code",
   "execution_count": 1,
   "metadata": {
    "deletable": false,
    "editable": false,
    "nbgrader": {
     "cell_type": "code",
     "checksum": "d679a8382697e4d5b661f35e933ac379",
     "grade": true,
     "grade_id": "cell-8b5777f7f5dc7efd",
     "locked": true,
     "points": 0,
     "schema_version": 3,
     "solution": false,
     "task": false
    }
   },
   "outputs": [],
   "source": [
    "# import packages\n",
    "import csc249\n",
    "import cv2\n",
    "import numpy as np\n",
    "from matplotlib import pyplot as plt\n",
    "from mpl_toolkits.mplot3d import Axes3D\n",
    "import torchvision\n",
    "import torch\n",
    "import torch.nn as nn\n",
    "import torch.nn.functional as F\n",
    "import pickle"
   ]
  },
  {
   "cell_type": "markdown",
   "metadata": {},
   "source": [
    "## Implement convolution (10 points)\n",
    "\n",
    "Before walking into the CNN part, you will first implement one of its core function -- **2D convolution**. For this problem you are not allowed to use pyotrch package. This will help you gain first-hand experience with how to implement forward functions of 2D convolutional layer. \n",
    "\n",
    "To keep the consistency with CNN:     \n",
    "\n",
    "1. The operation should work for 3D image tensor of shape (C,H,W) where C denotes the number of channels.   \n",
    "2. The operation should support **stride and padding**.   \n",
    "3. [useful link](https://cs231n.github.io/convolutional-networks/)\n",
    "\n",
    "Hint:\n",
    "- First, do the padding and compute the output shape based on the kernel, padding and stride size.\n",
    "- Then, run convolution over all the pixels to get the output.\n"
   ]
  },
  {
   "cell_type": "code",
   "execution_count": 2,
   "metadata": {
    "deletable": false,
    "nbgrader": {
     "cell_type": "code",
     "checksum": "eca1d96d0f8bbdcdd859f640276a15bf",
     "grade": true,
     "grade_id": "cell-f7bf854bb0ec733e",
     "locked": false,
     "points": 15,
     "schema_version": 3,
     "solution": true,
     "task": false
    }
   },
   "outputs": [],
   "source": [
    "def Conv2D(img, kernel, bias, stride, padding):\n",
    "    \"\"\"2D convolutional operation.\n",
    "    \n",
    "    Arguments\n",
    "    ---------\n",
    "        img : np.array\n",
    "            A 3D array of shape (C,H,W).\n",
    "        kernel : np.array\n",
    "            the weights of the kerel. \n",
    "            A 4D array of shape (out_channels, in_channels, kernel_height, kernel_width).\n",
    "        bias : np.array\n",
    "            the biases of the layer. \n",
    "            A 1D array of shape (out_channels).\n",
    "        strides : tuple\n",
    "            the strides of the convolution operation. \n",
    "            A tuple of shape (height_stride, width_stride).\n",
    "        padding : tuple\n",
    "            the number of zero paddings along the height and width. \n",
    "            A tuple of shape (height_padding, width_padding).\n",
    "\n",
    "        kernel_size = kernel.shape\n",
    "        stride = (stride, stride) if type(stride) == int else stride\n",
    "        padding = (padding, padding) if type(padding) == int else padding\n",
    "\n",
    "\n",
    "    Returns:\n",
    "    --------\n",
    "        The output of the layer. \n",
    "        A 3D array of shape (out_channels, out_heights, out_weights).\n",
    "    \"\"\"\n",
    "    # 1. padding\n",
    "    # YOUR CODE HERE\n",
    "    out_chan = len(kernel)\n",
    "    in_chan = len(kernel[0])\n",
    "    kernel_height = len(kernel[0][0])\n",
    "    kernel_width = len(kernel[0][0][0])\n",
    "    if (type(padding) == int):\n",
    "        height_padding = padding\n",
    "        width_padding = padding\n",
    "    else:\n",
    "        height_padding = padding[0]\n",
    "        width_padding = padding[1]\n",
    "    padded_img = np.pad(img, ((0, 0), (height_padding, height_padding), (width_padding, width_padding)))\n",
    "    #raise NotImplementedError()\n",
    "    \n",
    "    # 2. conv operation\n",
    "    # YOUR CODE HERE\n",
    "    new_C = len(padded_img)\n",
    "    new_H = len(padded_img[0])\n",
    "    new_W = len(padded_img[0][0])\n",
    "    if (type(stride) == int):\n",
    "        height_stride = stride\n",
    "        width_stride = stride\n",
    "    else: \n",
    "        height_stride = stride[0]\n",
    "        width_stride = stride[1]\n",
    "    conv_result = []\n",
    "    for k in range(out_chan):\n",
    "        ker = kernel[k, :, :, :]\n",
    "        bias_comp = bias[k]\n",
    "        temp1 = []\n",
    "        for i in range(new_H // height_stride - 1):\n",
    "            temp2 = []\n",
    "            for j in range(new_W // width_stride):\n",
    "                #Take out parts to be convoluted with kernel\n",
    "                hstart = height_stride*i\n",
    "                wstart = width_stride*j\n",
    "                hend = hstart + kernel_height\n",
    "                wend = wstart + kernel_width\n",
    "                if (hend <= new_H) and (wend <= new_W):\n",
    "                    img_convo = padded_img[:, hstart:hend, wstart:wend]\n",
    "                    conv_comp = np.sum(img_convo * ker) + bias_comp\n",
    "                    temp2.append(conv_comp)\n",
    "            temp1.append(temp2)\n",
    "        conv_result.append(temp1)\n",
    "    conv_result = np.array(conv_result)\n",
    "    return conv_result\n",
    "    #raise NotImplementedError()"
   ]
  },
  {
   "cell_type": "markdown",
   "metadata": {},
   "source": [
    "Run the cell below to validate the correctness of your implementation."
   ]
  },
  {
   "cell_type": "code",
   "execution_count": 3,
   "metadata": {
    "deletable": false,
    "editable": false,
    "nbgrader": {
     "cell_type": "code",
     "checksum": "1cdfb2c6fb697886d9e73c860fbe8754",
     "grade": true,
     "grade_id": "cell-a0c68db525c32f77",
     "locked": true,
     "points": 0,
     "schema_version": 3,
     "solution": false,
     "task": false
    },
    "tags": []
   },
   "outputs": [
    {
     "name": "stdout",
     "output_type": "stream",
     "text": [
      "Implemented Correctly\n"
     ]
    }
   ],
   "source": [
    "with open(csc249.data/'conv_cases.pkl', 'rb') as conv_f:\n",
    "    conv_cases = pickle.load(conv_f)\n",
    "    for case in conv_cases:\n",
    "        weight = case['weight']\n",
    "        bias = case['bias']\n",
    "        x = case['x']\n",
    "        out = case['out']\n",
    "        stride = case['stride']\n",
    "        pad = case['pad']\n",
    "        conved= Conv2D(x,weight,bias,stride,pad)\n",
    "        assert np.allclose(conved, out),'not pass'\n",
    "    print(\"Implemented Correctly\")"
   ]
  },
  {
   "cell_type": "markdown",
   "metadata": {
    "tags": []
   },
   "source": [
    "## CNN with Image Classification (30 points)\n",
    "\n",
    "In this problem, you will need to build your own CNN to classify the acutal class an image belongs to. The overall pipeline is decomposed to the following steps:\n",
    "\n",
    "1. Prepare the image classificatin dataset\n",
    "2. Define your convolutional neural network (15 points)\n",
    "3. Define criterion and optimizer\n",
    "3. Train your CNN (10 points)\n",
    "4. Evaluate your model's performance (5 points)\n",
    "\n",
    "For this part, you are required to use **pytorch** for development.\n"
   ]
  },
  {
   "cell_type": "markdown",
   "metadata": {},
   "source": [
    "### 1. Perpare dataset \n",
    "\n",
    "Here you will use a ten-class image dataset for classification."
   ]
  },
  {
   "cell_type": "code",
   "execution_count": 4,
   "metadata": {
    "deletable": false,
    "editable": false,
    "nbgrader": {
     "cell_type": "code",
     "checksum": "d0c6ab89f44de443b9625cb9fcd704a8",
     "grade": true,
     "grade_id": "cell-f206484d42403321",
     "locked": true,
     "points": 0,
     "schema_version": 3,
     "solution": false,
     "task": false
    },
    "scrolled": true,
    "tags": []
   },
   "outputs": [
    {
     "name": "stdout",
     "output_type": "stream",
     "text": [
      "Files already downloaded and verified\n",
      "Files already downloaded and verified\n"
     ]
    },
    {
     "data": {
      "image/png": "[encoded data removed]",
      "text/plain": [
       "<Figure size 1152x288 with 1 Axes>"
      ]
     },
     "metadata": {
      "needs_background": "light"
     },
     "output_type": "display_data"
    }
   ],
   "source": [
    "transform = torchvision.transforms.Compose([torchvision.transforms.ToTensor()])\n",
    "trainset = torchvision.datasets.CIFAR10(root=csc249.data, train=True,download=True, transform=transform)\n",
    "trainloader = torch.utils.data.DataLoader(trainset, batch_size=4,shuffle=True, num_workers=2)\n",
    "valset = torchvision.datasets.CIFAR10(root=csc249.data, train=False, download=True, transform=transform)\n",
    "valloader = torch.utils.data.DataLoader(valset, batch_size=4,shuffle=True, num_workers=2)\n",
    "classes = ('plane', 'car', 'bird', 'cat','deer', 'dog', 'frog', 'horse', 'ship', 'truck')\n",
    "dataiter = iter(trainloader)\n",
    "images, labels = dataiter.next()\n",
    "plt.figure(figsize=(16,4))\n",
    "plt.imshow(np.transpose(torchvision.utils.make_grid(images).numpy(), (1, 2, 0)))\n",
    "plt.title('         '.join('%5s' % classes[labels[j]] for j in range(4)),fontsize=40,)\n",
    "plt.show()"
   ]
  },
  {
   "cell_type": "markdown",
   "metadata": {},
   "source": [
    "### 2. Define Your CNN (15 points)\n",
    "- Now decide your own CNN. Note that you can choose your own parameter (e.g., the number of layers, hidden channels, kernel size...) to get a good result. Since no arguements will be passed into the initialization of ``Net()`` this time, please keep all the parameters embedded.\n",
    "    - You can call **nn.Conv2d**. Refer to https://pytorch.org/docs/stable/generated/torch.nn.Conv2d.html for more details.\n",
    "    - Use `LeakyReLU` as your activation function.\n",
    "    - With maxpooling in between. (Reference: https://pytorch.org/docs/stable/generated/torch.nn.MaxPool2d.html)\n",
    "- Following with 2 FC layers for classification.\n",
    "    - Be care of the number of final output channels! You are working on a 10-class clssification problem.\n"
   ]
  },
  {
   "cell_type": "code",
   "execution_count": 5,
   "metadata": {
    "deletable": false,
    "nbgrader": {
     "cell_type": "code",
     "checksum": "bd3e49ef28da76a0cd36f7aa967f5156",
     "grade": true,
     "grade_id": "cell-6b582ddd2a0f2c93",
     "locked": false,
     "points": 10,
     "schema_version": 3,
     "solution": true,
     "task": false
    }
   },
   "outputs": [],
   "source": [
    "class Net(nn.Module):\n",
    "    def __init__(self):\n",
    "        super(Net, self).__init__()\n",
    "        # YOUR CODE HERE\n",
    "        self.relu = torch.nn.LeakyReLU()\n",
    "        self.conv1 = torch.nn.Conv2d(3, 8, 5) \n",
    "        self.maxpool = torch.nn.MaxPool2d(2, 2) \n",
    "        self.conv2 = torch.nn.Conv2d(8, 16, 5)\n",
    "        self.fc1 = torch.nn.Linear(400, 120) \n",
    "        self.fc2 = torch.nn.Linear(120, 160)\n",
    "        self.fc3 = torch.nn.Linear(160, 10)\n",
    "        #raise NotImplementedError()\n",
    "\n",
    "    def forward(self, x):\n",
    "        # YOUR CODE HERE\n",
    "        x1 = self.conv1(x)\n",
    "        a1 = self.relu(x1)\n",
    "        z1 = self.maxpool(a1)\n",
    "        #print(z1.shape)\n",
    "        x2 = self.conv2(z1)\n",
    "        #print(x2.shape)\n",
    "        a2 = self.relu(x2)\n",
    "        z2 = self.maxpool(a2)\n",
    "        #print(z2.shape)\n",
    "        z2 = z2.flatten(1)\n",
    "        #print(z2.shape)\n",
    "        x3 = self.fc1(z2)\n",
    "        #print(x3.shape)\n",
    "        a3 = self.relu(x3)\n",
    "        x4 = self.fc2(a3)\n",
    "        #print(x4.shape)\n",
    "        a4 = self.relu(x4)\n",
    "        x5 = self.fc3(a4)\n",
    "        #print(x5.shape)\n",
    "        return x5\n",
    "        #raise NotImplementedError()"
   ]
  },
  {
   "cell_type": "markdown",
   "metadata": {},
   "source": [
    "### 3. Define criterion, net and optimizer\n",
    "\n",
    "For details please refer to https://pytorch.org/docs/stable/generated/torch.nn.CrossEntropyLoss.html."
   ]
  },
  {
   "cell_type": "code",
   "execution_count": 6,
   "metadata": {
    "deletable": false,
    "editable": false,
    "nbgrader": {
     "cell_type": "code",
     "checksum": "17feeac63acd4ffa794f652ec1bf1e5a",
     "grade": true,
     "grade_id": "cell-7ec599d185d5ab67",
     "locked": true,
     "points": 0,
     "schema_version": 3,
     "solution": false,
     "task": false
    }
   },
   "outputs": [],
   "source": [
    "net = Net()\n",
    "optimizer = torch.optim.SGD(net.parameters(), lr=0.001, momentum=0.9)\n",
    "criterion = nn.CrossEntropyLoss()\n"
   ]
  },
  {
   "cell_type": "markdown",
   "metadata": {},
   "source": [
    "### 4. Training (10 points)\n",
    "The same as before, for training, \n",
    "\n",
    "- call the network forward pass to get the predictions\n",
    "- calculate the loss wrt the ground-truth \n",
    "- backpropagate the loss to optimize the network.\n",
    "- compute accuracy at the end of **each epoch**\n",
    "\n",
    "Plot the loss for each epoch which is defined as the average of all sample's loss within one epoch  \n",
    "\n",
    "Hint (make sure you are on the GPU machine, otherwise ignore these): use below snippet to put data on GPU. You can also use the command ``nvidia-smi`` to check if there is enough GPU memory to run your program. \n",
    "\n",
    ">```python\n",
    ">net = net.cuda()\n",
    ">inputs = inputs.cuda()\n",
    ">labels = labels.cuda()\n",
    ">```"
   ]
  },
  {
   "cell_type": "code",
   "execution_count": null,
   "metadata": {
    "deletable": false,
    "nbgrader": {
     "cell_type": "code",
     "checksum": "46d98d02af5ded549e300aa1741bfc33",
     "grade": true,
     "grade_id": "cell-a324bf9cee55ad4c",
     "locked": false,
     "points": 10,
     "schema_version": 3,
     "solution": true,
     "task": false
    },
    "tags": []
   },
   "outputs": [
    {
     "name": "stdout",
     "output_type": "stream",
     "text": [
      "Training complete\n",
      "Training complete\n",
      "Training complete\n",
      "Training complete\n",
      "Training complete\n",
      "Training complete\n",
      "Training complete\n"
     ]
    }
   ],
   "source": [
    "# comment this line of code if not on gpu\n",
    "net = net.cuda()\n",
    "\n",
    "for epoch in range(10):  # loop over the dataset multiple times\n",
    "# YOUR CODE HERE\n",
    "    for step, (train_feat, train_lab) in enumerate(trainloader):\n",
    "        train_feat = train_feat.cuda()\n",
    "        train_lab = train_lab.cuda()\n",
    "        optimizer.zero_grad()\n",
    "        train_out = net(train_feat)\n",
    "        _, train_pred = torch.max(train_out, 1)\n",
    "        loss = criterion(train_out, train_lab)\n",
    "        loss.backward()\n",
    "        optimizer.step()\n",
    "    print('Training complete')\n",
    "#raise NotImplementedError()"
   ]
  },
  {
   "cell_type": "markdown",
   "metadata": {},
   "source": [
    "### 5. Evaluation (5 points)\n",
    "\n",
    "Run over all the validation samples to calculate the number of correct predictions. You are expected to get > 50% accuracy."
   ]
  },
  {
   "cell_type": "code",
   "execution_count": null,
   "metadata": {
    "deletable": false,
    "nbgrader": {
     "cell_type": "code",
     "checksum": "cf479941dfb4d86e3028f46b23b64690",
     "grade": true,
     "grade_id": "cell-81156d6450fc379b",
     "locked": false,
     "points": 5,
     "schema_version": 3,
     "solution": true,
     "task": false
    }
   },
   "outputs": [],
   "source": [
    "correct = 0\n",
    "total = 0\n",
    "\n",
    "# YOUR CODE HERE\n",
    "with torch.no_grad():\n",
    "    for step, (valid_feat, valid_lab) in enumerate(valloader):\n",
    "        valid_feat = valid_feat.cuda()\n",
    "        valid_lab = valid_lab.cuda()\n",
    "        prediction = net(valid_feat)\n",
    "        y = valid_lab\n",
    "        _, prediction = torch.max(prediction, 1)\n",
    "        for lab, pred in zip(y, prediction):\n",
    "            total += 1\n",
    "            if (lab == pred):\n",
    "                correct += 1\n",
    "#raise NotImplementedError()\n",
    "        \n",
    "print(f'Accuracy of the network on the 10000 validation images: {100 * correct // total} %')"
   ]
  },
  {
   "cell_type": "markdown",
   "metadata": {},
   "source": [
    "# Submission\n",
    "\n",
    "1. At the menubar, click `Kernel`$\\rightarrow$ `Restart & Run All`\n",
    "2. Download the zip file and upload via blackboard\n",
    "   \n",
    "1% deduction of late assignment total score per hour passing the deadline."
   ]
  },
  {
   "cell_type": "code",
   "execution_count": null,
   "metadata": {},
   "outputs": [],
   "source": [
    "import csc249\n",
    "csc249.make_submission()"
   ]
  }
 ],
 "metadata": {
  "kernelspec": {
   "display_name": "Python 3 (ipykernel)",
   "language": "python",
   "name": "python3"
  },
  "language_info": {
   "codemirror_mode": {
    "name": "ipython",
    "version": 3
   },
   "file_extension": ".py",
   "mimetype": "text/x-python",
   "name": "python",
   "nbconvert_exporter": "python",
   "pygments_lexer": "ipython3",
   "version": "3.9.7"
  }
 },
 "nbformat": 4,
 "nbformat_minor": 2
}
